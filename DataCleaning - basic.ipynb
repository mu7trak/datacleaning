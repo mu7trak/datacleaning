{
 "cells": [
  {
   "cell_type": "markdown",
   "metadata": {},
   "source": [
    "# Basic Data Cleaning in Python "
   ]
  },
  {
   "cell_type": "markdown",
   "metadata": {},
   "source": [
    "\n",
    "Based on mauna loa (Hawaii) CO2 measurment data between 1959 and 1997."
   ]
  },
  {
   "cell_type": "code",
   "execution_count": 171,
   "metadata": {
    "scrolled": true
   },
   "outputs": [
    {
     "data": {
      "text/html": [
       "<div>\n",
       "<table border=\"1\" class=\"dataframe\">\n",
       "  <thead>\n",
       "    <tr style=\"text-align: right;\">\n",
       "      <th></th>\n",
       "      <th>CO2_in_ppm</th>\n",
       "      <th>date</th>\n",
       "    </tr>\n",
       "  </thead>\n",
       "  <tbody>\n",
       "    <tr>\n",
       "      <th>0</th>\n",
       "      <td>315.42</td>\n",
       "      <td>1959.000000</td>\n",
       "    </tr>\n",
       "    <tr>\n",
       "      <th>1</th>\n",
       "      <td>316.31</td>\n",
       "      <td>1959.083333</td>\n",
       "    </tr>\n",
       "    <tr>\n",
       "      <th>2</th>\n",
       "      <td>316.50</td>\n",
       "      <td>1959.166667</td>\n",
       "    </tr>\n",
       "    <tr>\n",
       "      <th>3</th>\n",
       "      <td>317.56</td>\n",
       "      <td>1959.250000</td>\n",
       "    </tr>\n",
       "    <tr>\n",
       "      <th>4</th>\n",
       "      <td>318.13</td>\n",
       "      <td>1959.333333</td>\n",
       "    </tr>\n",
       "  </tbody>\n",
       "</table>\n",
       "</div>"
      ],
      "text/plain": [
       "   CO2_in_ppm         date\n",
       "0      315.42  1959.000000\n",
       "1      316.31  1959.083333\n",
       "2      316.50  1959.166667\n",
       "3      317.56  1959.250000\n",
       "4      318.13  1959.333333"
      ]
     },
     "execution_count": 171,
     "metadata": {},
     "output_type": "execute_result"
    }
   ],
   "source": [
    "# Read csv using pandas, and get proper column names\n",
    "\n",
    "import pandas as pd\n",
    "maunaloa_filename = 'mauna-loa-atmospheric-co2.csv'\n",
    "maunaloa = pd.read_csv(maunaloa_filename, sep=',', decimal='.', header=None,\n",
    "names = ['CO2_in_ppm', 'date'])\n",
    "maunaloa.head(5)\n"
   ]
  },
  {
   "cell_type": "code",
   "execution_count": 172,
   "metadata": {},
   "outputs": [
    {
     "data": {
      "text/plain": [
       "(468, 2)"
      ]
     },
     "execution_count": 172,
     "metadata": {},
     "output_type": "execute_result"
    }
   ],
   "source": [
    "maunaloa.shape"
   ]
  },
  {
   "cell_type": "code",
   "execution_count": 173,
   "metadata": {},
   "outputs": [],
   "source": [
    "# There is need to prepare appropriate datetime format for pandas\n",
    "\n",
    "from datetime import timedelta, datetime\n",
    "import calendar\n",
    "import numpy as np\n",
    "\n",
    "def convert_partial_year(number):\n",
    "    year = int(number)\n",
    "    if calendar.isleap(year):\n",
    "        d = timedelta(days=(number - year)*365)\n",
    "    else:\n",
    "        d = timedelta(days=(number - year)*366)\n",
    "    day_one = datetime(year,1,1)\n",
    "    date = d + day_one\n",
    "    return date\n",
    "\n",
    "maunaloa['date']=maunaloa['date'].apply(convert_partial_year)\n"
   ]
  },
  {
   "cell_type": "code",
   "execution_count": 174,
   "metadata": {
    "scrolled": true
   },
   "outputs": [
    {
     "data": {
      "text/html": [
       "<div>\n",
       "<table border=\"1\" class=\"dataframe\">\n",
       "  <thead>\n",
       "    <tr style=\"text-align: right;\">\n",
       "      <th></th>\n",
       "      <th>CO2_in_ppm</th>\n",
       "      <th>date</th>\n",
       "    </tr>\n",
       "  </thead>\n",
       "  <tbody>\n",
       "    <tr>\n",
       "      <th>0</th>\n",
       "      <td>315.42</td>\n",
       "      <td>1959-01-01 00:00:00.000000</td>\n",
       "    </tr>\n",
       "    <tr>\n",
       "      <th>1</th>\n",
       "      <td>316.31</td>\n",
       "      <td>1959-01-31 11:59:59.894591</td>\n",
       "    </tr>\n",
       "    <tr>\n",
       "      <th>2</th>\n",
       "      <td>316.50</td>\n",
       "      <td>1959-03-03 00:00:00.105409</td>\n",
       "    </tr>\n",
       "    <tr>\n",
       "      <th>3</th>\n",
       "      <td>317.56</td>\n",
       "      <td>1959-04-02 12:00:00.000000</td>\n",
       "    </tr>\n",
       "    <tr>\n",
       "      <th>4</th>\n",
       "      <td>318.13</td>\n",
       "      <td>1959-05-02 23:59:59.894591</td>\n",
       "    </tr>\n",
       "  </tbody>\n",
       "</table>\n",
       "</div>"
      ],
      "text/plain": [
       "   CO2_in_ppm                       date\n",
       "0      315.42 1959-01-01 00:00:00.000000\n",
       "1      316.31 1959-01-31 11:59:59.894591\n",
       "2      316.50 1959-03-03 00:00:00.105409\n",
       "3      317.56 1959-04-02 12:00:00.000000\n",
       "4      318.13 1959-05-02 23:59:59.894591"
      ]
     },
     "execution_count": 174,
     "metadata": {},
     "output_type": "execute_result"
    }
   ],
   "source": [
    "maunaloa.head(5)"
   ]
  },
  {
   "cell_type": "code",
   "execution_count": 175,
   "metadata": {},
   "outputs": [
    {
     "data": {
      "text/plain": [
       "CO2_in_ppm           float64\n",
       "date          datetime64[ns]\n",
       "dtype: object"
      ]
     },
     "execution_count": 175,
     "metadata": {},
     "output_type": "execute_result"
    }
   ],
   "source": [
    "maunaloa.dtypes"
   ]
  },
  {
   "cell_type": "markdown",
   "metadata": {},
   "source": [
    "## Sample data plot in seaborn"
   ]
  },
  {
   "cell_type": "code",
   "execution_count": 182,
   "metadata": {},
   "outputs": [
    {
     "data": {
      "text/plain": [
       "<matplotlib.text.Text at 0x122019d0>"
      ]
     },
     "execution_count": 182,
     "metadata": {},
     "output_type": "execute_result"
    },
    {
     "data": {
      "image/png": "[encoded data removed]",
      "text/plain": [
       "<matplotlib.figure.Figure at 0x1212e090>"
      ]
     },
     "metadata": {},
     "output_type": "display_data"
    }
   ],
   "source": [
    "import matplotlib.pyplot as plt\n",
    "import matplotlib as mpl\n",
    "import seaborn as sns\n",
    "# Applying seaborn style to mpl\n",
    "sns.set()\n",
    "%matplotlib inline\n",
    "plt.rc('font', family='Arial')\n",
    "\n",
    "sns.set_style('whitegrid')\n",
    "sns.despine(fig=None)\n",
    "\n",
    "plt.title(r'$Atmospheric\\ CO_2\\ at\\ Mauna\\ Loa\\ Observatory$')\n",
    "\n",
    "# Seaborn doesnt support datetimes in regplot, but here's and ugly hack\n",
    "maunaloa = maunaloa.sort_values('date')\n",
    "maunaloa['date_f'] = pd.factorize(maunaloa['date'])[0] + 1\n",
    "mapping = dict(zip(maunaloa['date_f'], maunaloa['date'].dt.date))\n",
    "\n",
    "\n",
    "ax = sns.regplot('date_f', 'CO2_in_ppm', data=maunaloa,order =2, line_kws = {'color':\"red\"})\n",
    "labels = pd.Series(ax.get_xticks(0)).map(mapping).fillna('')\n",
    "ax.set_xticklabels(labels)\n",
    "ax.set_xlabel('year')\n",
    "ax.set_ylabel('parts per million')"
   ]
  }
 ],
 "metadata": {
  "kernelspec": {
   "display_name": "Python 3",
   "language": "python",
   "name": "python3"
  },
  "language_info": {
   "codemirror_mode": {
    "name": "ipython",
    "version": 3
   },
   "file_extension": ".py",
   "mimetype": "text/x-python",
   "name": "python",
   "nbconvert_exporter": "python",
   "pygments_lexer": "ipython3",
   "version": "3.6.0"
  }
 },
 "nbformat": 4,
 "nbformat_minor": 2
}
